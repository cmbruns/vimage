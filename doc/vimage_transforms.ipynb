{
 "cells": [
  {
   "cell_type": "markdown",
   "id": "be057972",
   "metadata": {},
   "source": [
    "## Coordinate Frames\n",
    "\n",
    "Listed in order from the most user facing, to the back end internal raw data.\n",
    "\n",
    "| Frame | Units         | Origin   | Y dir | Description |\n",
    "| ----- | ------------- | -------- | ----- | ----------- |\n",
    "| qwn   | window pixels | top left | down  | Qt window coordinates |\n",
    "| ndc   | half windows  | center   | up    | OpenGL normalized device coordinates |\n",
    "| nic   | half images   | center   | up    | vimage normalized reoriented isotropic image coordinates |\n",
    "| omp   | image pixels  | top left | down  | rectified image pixels |\n",
    "| obq   | radians       | center   | up    | \"oblique\" image sphere rotated to current view |\n",
    "| ont   | radians       | center   | up    | image sphere rectified to canonical orientation using EXIF/XMP metadata |\n",
    "| eqr   | radians       | center   | up    | heading, pitch (equirectangular projection) |\n",
    "| txc   | images        | top left | down  | OpenGL texture coordinates |"
   ]
  },
  {
   "cell_type": "markdown",
   "id": "8455c424",
   "metadata": {},
   "source": [
    "## Transform parameters\n",
    "\n",
    "1. Zoom: windows per image\n",
    "2. Direction: heading, pitch degrees (360 only)\n",
    "3. Image center: image pixel x, y (rectangular only)\n",
    "4. Image width, height: image pixels (respecting EXIF orientation)\n",
    "5. Window width, height: screen pixels"
   ]
  },
  {
   "cell_type": "markdown",
   "id": "7ab543c5",
   "metadata": {},
   "source": [
    "### Situations where transformation between coordinate frames is needed:\n",
    "\n",
    " 1. When single dragging images to pan. Here we need the jacobian matrix relating qwn coordinates to view_model parameters. $viw_J_qwn$\n",
    "     * image center (but not zoom), in the case of rectangular images\n",
    "     * view pitch and heading angles (but not zoom nor roll) in the case of 360 images\n",
    " 2. When rendering images in a GLSL shader. $txc_X_ndc$\n",
    " 3. When hovering with the mouse $omp_X_qwn$ for rectangular and $viw_X_qwn$ for 360 images."
   ]
  },
  {
   "cell_type": "markdown",
   "id": "b0b14b24",
   "metadata": {},
   "source": [
    "The only frames we need to compute are:\n",
    "  * tex, in the rectangular shader tex_X_ndc\n",
    "  * omp, on hover omp_X_qwn\n",
    "  * derivative of image center (in either ont, raw, tex, img, or omp), on drag omp_J_qwn\n",
    "    * ypr for 360s ypr_J_qwn\n",
    "    * omp for rectangular omp_J_qwn\n",
    "  \n",
    "Rectangular view state:\n",
    "  * image center (should be omp, TODO:)\n",
    "  * zoom (windows per image)\n",
    "360 view state:\n",
    "  * pitch, yaw (maybe as equirect image center in degrees)\n",
    "  * zoom (windows per image at center?)\n",
    "  \n",
    "What are normalized image coordinates (nic) ?\n",
    "  * origin (0,0) is at image center\n",
    "  * Y increases upward\n",
    "  * EXIF reorientation is applied\n",
    "  * coordinates range from -1 (left, bottom) to +1 (right, top)\n",
    "  * scaled such that underlying full image exactly fits in the window. The edge touching dimension ranges from -1 to +1\n",
    "  \n",
    "Vertex shader converts from ndc to nic\n",
    "  * apply zoom, window aspect, image size, image center\n",
    "Fragment shader computes from nic to txc, and samples\n",
    "  * apply pixel filter\n",
    "  * 360 images:\n",
    "    * nic to geocentric unit sphere\n",
    "    * rotate by yaw pitch roll\n",
    "    * project to projection...\n"
   ]
  },
  {
   "cell_type": "code",
   "execution_count": 11,
   "id": "8d86901a",
   "metadata": {},
   "outputs": [],
   "source": [
    "from sympy import *\n",
    "init_printing()"
   ]
  },
  {
   "cell_type": "markdown",
   "id": "b7d7dda8",
   "metadata": {},
   "source": [
    "The transform required for hover coordinates is composed of sub-transforms:\n",
    "\n",
    "$^{omp}p \\ = \\ ^{omp}X^{qwn} \\ \\cdot \\ ^{qwn}p $\n",
    "\n",
    "$^{omp}X^{qwn} \\ = \\ ^{omp}X^{nic} \\ \\cdot \\ ^{nic}X^{ndc} \\ \\cdot \\ ^{ndc}X^{qwn}$\n"
   ]
  },
  {
   "cell_type": "code",
   "execution_count": 12,
   "id": "6668a2db",
   "metadata": {
    "code_folding": []
   },
   "outputs": [],
   "source": [
    "# printed symbols of transforms\n",
    "omp_X_qwn_s = symbols(\"^{omp}X^{qwn}\")\n",
    "ndc_X_qwn_s = symbols(\"^{ndc}X^{qwn}\")\n",
    "nic_X_ndc_s = symbols(\"^{nic}X^{ndc}\")\n",
    "omp_X_nic_s = symbols(\"^{omp}X^{nic}\")"
   ]
  },
  {
   "cell_type": "code",
   "execution_count": 13,
   "id": "1e2f3714",
   "metadata": {
    "code_folding": []
   },
   "outputs": [
    {
     "data": {
      "text/latex": [
       "$\\displaystyle ^{ndc}X^{qwn} = \\left[\\begin{matrix}\\frac{2}{w_{win}} & 0 & -1\\\\0 & - \\frac{2}{h_{win}} & 1\\\\0 & 0 & 1\\end{matrix}\\right]$"
      ],
      "text/plain": [
       "                 ⎡  2             ⎤\n",
       "                 ⎢─────    0    -1⎥\n",
       "                 ⎢w_win           ⎥\n",
       "                 ⎢                ⎥\n",
       "^{ndc}X__{qwn} = ⎢        -2      ⎥\n",
       "                 ⎢  0    ─────  1 ⎥\n",
       "                 ⎢       h_win    ⎥\n",
       "                 ⎢                ⎥\n",
       "                 ⎣  0      0    1 ⎦"
      ]
     },
     "execution_count": 13,
     "metadata": {},
     "output_type": "execute_result"
    }
   ],
   "source": [
    "# ndc_X_qwn: Transform to OpenGL normalized device coordinates from Qt window pixel coordinates\n",
    "\n",
    "# window dimensions\n",
    "w_win, h_win = symbols(\"w_win, h_win\")\n",
    "\n",
    "ndc_X_qwn_m = Matrix([\n",
    "    [2/w_win, 0, -1],\n",
    "    [0, -2/h_win, 1],\n",
    "    [0, 0, 1],\n",
    "])\n",
    "\n",
    "# confidence checks\n",
    "\n",
    "# Upper left corner\n",
    "ulc_qwn_v = Matrix([0, 0, 1])\n",
    "ulc_ndc_v = Matrix([-1, 1, 1])\n",
    "assert ndc_X_qwn_m * ulc_qwn_v == ulc_ndc_v\n",
    "\n",
    "# Upper right corner\n",
    "urc_qwn_v = Matrix([w_win, 0, 1])\n",
    "urc_ndc_v = Matrix([1, 1, 1])\n",
    "assert ndc_X_qwn_m * urc_qwn_v == urc_ndc_v\n",
    "\n",
    "# Lower left corner\n",
    "llc_qwn_v = Matrix([0, h_win, 1])\n",
    "llc_ndc_v = Matrix([-1, -1, 1])\n",
    "assert ndc_X_qwn_m * llc_qwn_v == llc_ndc_v\n",
    "\n",
    "# Lower right corner\n",
    "lrc_qwn_v = Matrix([w_win, h_win, 1])\n",
    "lrc_ndc_v = Matrix([1, -1, 1])\n",
    "assert ndc_X_qwn_m * lrc_qwn_v == lrc_ndc_v\n",
    "\n",
    "Eq(ndc_X_qwn_s, ndc_X_qwn_m, evaluate=False)"
   ]
  },
  {
   "cell_type": "code",
   "execution_count": 14,
   "id": "f945c045",
   "metadata": {
    "code_folding": [
     0
    ]
   },
   "outputs": [
    {
     "data": {
      "text/latex": [
       "$\\displaystyle ^{nic}X^{ndc} = \\left[\\begin{matrix}\\frac{w_{win}}{asc_{qwn} zoom} & 0 & 0\\\\0 & \\frac{h_{win}}{asc_{qwn} zoom} & 0\\\\0 & 0 & 1\\end{matrix}\\right]$"
      ],
      "text/plain": [
       "                 ⎡   w_win                     ⎤\n",
       "                 ⎢────────────       0        0⎥\n",
       "                 ⎢asc_qwn⋅zoom                 ⎥\n",
       "                 ⎢                             ⎥\n",
       "^{nic}X__{ndc} = ⎢                 h_win       ⎥\n",
       "                 ⎢     0        ────────────  0⎥\n",
       "                 ⎢              asc_qwn⋅zoom   ⎥\n",
       "                 ⎢                             ⎥\n",
       "                 ⎣     0             0        1⎦"
      ]
     },
     "execution_count": 14,
     "metadata": {},
     "output_type": "execute_result"
    }
   ],
   "source": [
    "# nic_X_ndc: transform to vimage normalized image coordinates from OpenGL normalized device coordinates\n",
    "\n",
    "w_omp, h_omp = symbols(\"w_omp, h_omp\")  # (reoriented) image dimensions\n",
    "zoom = symbols(\"zoom\")  # windows per image (default 1)\n",
    "cen_x_omp, cen_y_omp = symbols(\"^{omp}cen_x ^{omp}cen_y\")\n",
    "\n",
    "# TODO: aspect, center\n",
    "aspect_omp = w_omp / h_omp\n",
    "aspect_qwn = w_win / h_win\n",
    "\n",
    "# Case A: If aspect_omp > aspect_qwn, image is fatter than window, so pad top/bottom at zoom == 1\n",
    "# Case B: otherwise, pad left/right at zoom == 1\n",
    "\n",
    "aspect_scale_ompA = w_omp\n",
    "aspect_scale_ompB = h_omp\n",
    "aspect_scale_qwnA = w_win\n",
    "aspect_scale_qwnB = h_win\n",
    "\n",
    "# Create a symbol for the A/B choice of aspect scaling\n",
    "asc_omp, asc_qwn = symbols(\"asc_omp asc_qwn\")\n",
    "\n",
    "aspect_scale = Matrix([\n",
    "    [w_win / asc_qwn, 0, 0],\n",
    "    [0, h_win / asc_qwn, 0],\n",
    "    [0, 0, 1],\n",
    "])\n",
    "\n",
    "zoom_scale = Matrix([\n",
    "    [1 / zoom, 0, 0],\n",
    "    [0, 1 / zoom, 0],\n",
    "    [0, 0, 1],\n",
    "])\n",
    "\n",
    "\n",
    "nic_X_ndc_m = zoom_scale * aspect_scale\n",
    "\n",
    "Eq(nic_X_ndc_s, nic_X_ndc_m, evaluate=False)"
   ]
  },
  {
   "cell_type": "code",
   "execution_count": 15,
   "id": "e61184e6",
   "metadata": {
    "code_folding": [
     0
    ]
   },
   "outputs": [
    {
     "data": {
      "text/latex": [
       "$\\displaystyle ^{omp}X^{nic} = \\left[\\begin{matrix}\\frac{asc_{omp}}{2} & 0 & ^{omp}cen_x\\\\0 & - \\frac{asc_{omp}}{2} & ^{omp}cen_y\\\\0 & 0 & 1\\end{matrix}\\right]$"
      ],
      "text/plain": [
       "                 ⎡ascₒₘₚ                       ⎤\n",
       "                 ⎢──────     0      ^{omp}cenₓ ⎥\n",
       "                 ⎢  2                          ⎥\n",
       "                 ⎢                             ⎥\n",
       "^{omp}X__{nic} = ⎢        -ascₒₘₚ              ⎥\n",
       "                 ⎢  0     ────────  ^{omp}cen_y⎥\n",
       "                 ⎢           2                 ⎥\n",
       "                 ⎢                             ⎥\n",
       "                 ⎣  0        0           1     ⎦"
      ]
     },
     "execution_count": 15,
     "metadata": {},
     "output_type": "execute_result"
    }
   ],
   "source": [
    "# omp_X_nic: Transform from normalized image coordinates to oriented image pixels\n",
    "\n",
    "center_shift = Matrix([\n",
    "    [1, 0, -2 * (w_omp / 2 - cen_x_omp) / asc_omp],\n",
    "    [0, 1, 2 * (h_omp / 2 - cen_y_omp) / asc_omp],\n",
    "    [0, 0, 1],\n",
    "])\n",
    "\n",
    "omp_X_nic_m = Matrix([\n",
    "    [asc_omp / 2, 0, w_omp / 2],\n",
    "    [0, -asc_omp / 2, h_omp / 2],\n",
    "    [0, 0, 1],\n",
    "]) * center_shift\n",
    "\n",
    "Eq(omp_X_nic_s, omp_X_nic_m, evaluate=False)"
   ]
  },
  {
   "cell_type": "code",
   "execution_count": 16,
   "id": "3a92c680",
   "metadata": {},
   "outputs": [
    {
     "data": {
      "text/latex": [
       "$\\displaystyle ^{omp}X^{qwn} = \\left[\\begin{matrix}\\frac{asc_{omp}}{asc_{qwn} zoom} & 0 & ^{omp}cen_x - \\frac{asc_{omp} w_{win}}{2 asc_{qwn} zoom}\\\\0 & \\frac{asc_{omp}}{asc_{qwn} zoom} & ^{omp}cen_y - \\frac{asc_{omp} h_{win}}{2 asc_{qwn} zoom}\\\\0 & 0 & 1\\end{matrix}\\right]$"
      ],
      "text/plain": [
       "                 ⎡   ascₒₘₚ                                 ascₒₘₚ⋅w_win  ⎤\n",
       "                 ⎢────────────       0        ^{omp}cenₓ - ────────────── ⎥\n",
       "                 ⎢asc_qwn⋅zoom                             2⋅asc_qwn⋅zoom ⎥\n",
       "                 ⎢                                                        ⎥\n",
       "^{omp}X__{qwn} = ⎢                 ascₒₘₚ                    ascₒₘₚ⋅h_win ⎥\n",
       "                 ⎢     0        ────────────  ^{omp}cen_y - ──────────────⎥\n",
       "                 ⎢              asc_qwn⋅zoom                2⋅asc_qwn⋅zoom⎥\n",
       "                 ⎢                                                        ⎥\n",
       "                 ⎣     0             0                     1              ⎦"
      ]
     },
     "execution_count": 16,
     "metadata": {},
     "output_type": "execute_result"
    }
   ],
   "source": [
    "omp_X_qwn_m = omp_X_nic_m * nic_X_ndc_m * ndc_X_qwn_m\n",
    "Eq(omp_X_qwn_s, omp_X_qwn_m, evaluate=False)"
   ]
  },
  {
   "cell_type": "code",
   "execution_count": 17,
   "id": "477c537a",
   "metadata": {},
   "outputs": [
    {
     "data": {
      "text/latex": [
       "$\\displaystyle ^{nic}X^{qwn} = \\left[\\begin{matrix}\\frac{2}{asc_{qwn} zoom} & 0 & - \\frac{w_{win}}{asc_{qwn} zoom}\\\\0 & - \\frac{2}{asc_{qwn} zoom} & \\frac{h_{win}}{asc_{qwn} zoom}\\\\0 & 0 & 1\\end{matrix}\\right]$"
      ],
      "text/plain": [
       "                 ⎡     2                        -w_win    ⎤\n",
       "                 ⎢────────────       0        ────────────⎥\n",
       "                 ⎢asc_qwn⋅zoom                asc_qwn⋅zoom⎥\n",
       "                 ⎢                                        ⎥\n",
       "^{nic}X__{qwn} = ⎢                  -2           h_win    ⎥\n",
       "                 ⎢     0        ────────────  ────────────⎥\n",
       "                 ⎢              asc_qwn⋅zoom  asc_qwn⋅zoom⎥\n",
       "                 ⎢                                        ⎥\n",
       "                 ⎣     0             0             1      ⎦"
      ]
     },
     "execution_count": 17,
     "metadata": {},
     "output_type": "execute_result"
    }
   ],
   "source": [
    "nic_X_qwn_s = symbols(\"^{nic}X^{qwn}\")\n",
    "Eq(nic_X_qwn_s, nic_X_ndc_m * ndc_X_qwn_m, evaluate=False)"
   ]
  },
  {
   "cell_type": "code",
   "execution_count": 18,
   "id": "3d7377b1",
   "metadata": {
    "code_folding": []
   },
   "outputs": [],
   "source": [
    "# Confidence checks\n",
    "\n",
    "# Test case for zoom factor 1\n",
    "test_m = omp_X_qwn_m.subs(zoom, 1)\n",
    "# Default image center\n",
    "test_m = test_m.subs(cen_x_omp, w_omp/2).subs(cen_y_omp, h_omp/2)\n",
    "# Square window, square image\n",
    "test_m = test_m.subs(h_omp, w_omp).subs(h_win, w_win).subs(asc_omp, w_omp).subs(asc_qwn, w_win)\n",
    "assert test_m * Matrix([0, 0, 1]) == Matrix([0, 0, 1])  # Upper left corner\n",
    "assert test_m * Matrix([w_win, w_win, 1]) == Matrix([w_omp, w_omp, 1])  # Lower right corner\n",
    "assert test_m * Matrix([w_win / 2, w_win / 2, 1]) == Matrix([w_omp / 2, w_omp / 2, 1])  # Center\n",
    "\n",
    "# Test case for zoom factor 2\n",
    "test_m = omp_X_qwn_m.subs(zoom, 2)\n",
    "# Default image center\n",
    "test_m = test_m.subs(cen_x_omp, w_omp/2).subs(cen_y_omp, h_omp/2)\n",
    "# Square window, square image\n",
    "test_m = test_m.subs(h_omp, w_omp).subs(h_win, w_win).subs(asc_omp, w_omp).subs(asc_qwn, w_win)\n",
    "assert test_m * Matrix([w_win / 2, w_win / 2, 1]) == Matrix([w_omp / 2, w_omp / 2, 1])  # Center unchanged\n",
    "assert test_m * Matrix([0, 0, 1]) == Matrix([w_omp / 4, w_omp / 4, 1])  # Upper left is offset by 1/4\n",
    "\n",
    "# Test case for center at upper left\n",
    "test_m = omp_X_qwn_m.subs(zoom, 1)\n",
    "# image center at upper left\n",
    "test_m = test_m.subs(cen_x_omp, 0).subs(cen_y_omp, 0)\n",
    "# Square window, square image\n",
    "test_m = test_m.subs(h_omp, w_omp).subs(h_win, w_win).subs(asc_omp, w_omp).subs(asc_qwn, w_win)\n",
    "assert test_m * Matrix([0, 0, 1]) == Matrix([-w_omp/2, -w_omp/2, 1]) # Upper left of window is in negative image coordinates\n",
    "assert test_m * Matrix([w_win, w_win, 1]) == Matrix([w_omp/2, w_omp/2, 1]) # Lower right of window is in image center\n",
    "assert test_m * Matrix([w_win/2, w_win/2, 1]) == Matrix([0, 0, 1])  # Window center is image center\n",
    "\n",
    "# Default image center\n",
    "test_m = omp_X_qwn_m.subs(cen_x_omp, w_omp/2).subs(cen_y_omp, h_omp/2)\n",
    "assert test_m * Matrix([w_win/2, h_win/2, 1]) == Matrix([w_omp/2, h_omp/2, 1]) # Window center is image center"
   ]
  },
  {
   "cell_type": "code",
   "execution_count": 19,
   "id": "c94764e7",
   "metadata": {},
   "outputs": [
    {
     "data": {
      "text/latex": [
       "$\\displaystyle \\left[\\begin{matrix}{\\partial}^{omp}p_x\\\\{\\partial}^{omp}p_y\\end{matrix}\\right] = \\left[\\begin{matrix}\\frac{asc_{omp}}{asc_{qwn} zoom} & 0\\\\0 & \\frac{asc_{omp}}{asc_{qwn} zoom}\\end{matrix}\\right] \\left[\\begin{matrix}{\\partial}^{qwn}p_x & {\\partial}^{qwn}p_y\\end{matrix}\\right]$"
      ],
      "text/plain": [
       "                         ⎡   ascₒₘₚ                 ⎤                         \n",
       "                         ⎢────────────       0      ⎥                         \n",
       "⎡{\\partial}_x__{omp}p⎤   ⎢asc_qwn⋅zoom              ⎥                         \n",
       "⎢                    ⎥ = ⎢                          ⎥⋅[{\\partial}_x__{qwn}p  {\n",
       "⎣{\\partial}_y__{omp}p⎦   ⎢                 ascₒₘₚ   ⎥                         \n",
       "                         ⎢     0        ────────────⎥                         \n",
       "                         ⎣              asc_qwn⋅zoom⎦                         \n",
       "\n",
       "                    \n",
       "                    \n",
       "                    \n",
       "\\partial}_y__{qwn}p]\n",
       "                    \n",
       "                    \n",
       "                    "
      ]
     },
     "execution_count": 19,
     "metadata": {},
     "output_type": "execute_result"
    }
   ],
   "source": [
    "# Jacobian for dragging in rectangular images\n",
    "d_omp_x, d_omp_y = symbols(\"{\\partial}^{omp}p_x, {\\partial}^{omp}p_y\")\n",
    "d_qwn_x, d_qwn_y = symbols(\"{\\partial}^{qwn}p_x, {\\partial}^{qwn}p_y\")\n",
    "ue = UnevaluatedExpr\n",
    "Eq(Matrix([d_omp_x, d_omp_y]), ue(omp_X_qwn_m[0:2,0:2]) * ue(Matrix([d_qwn_x, d_qwn_y]).T), evaluate=False)"
   ]
  },
  {
   "cell_type": "code",
   "execution_count": 20,
   "id": "b523a8f8",
   "metadata": {},
   "outputs": [
    {
     "data": {
      "image/png": "[encoded data removed]",
      "text/latex": [
       "$\\displaystyle \\left( {\\partial}^{omp}p_x = \\frac{asc_{omp} {\\partial}^{qwn}p_x}{asc_{qwn} zoom}, \\  {\\partial}^{omp}p_y = \\frac{asc_{omp} {\\partial}^{qwn}p_y}{asc_{qwn} zoom}\\right)$"
      ],
      "text/plain": [
       "⎛                       ascₒₘₚ⋅{\\partial}_x__{qwn}p                         as\n",
       "⎜{\\partial}_x__{omp}p = ───────────────────────────, {\\partial}_y__{omp}p = ──\n",
       "⎝                               asc_qwn⋅zoom                                  \n",
       "\n",
       "cₒₘₚ⋅{\\partial}_y__{qwn}p⎞\n",
       "─────────────────────────⎟\n",
       "      asc_qwn⋅zoom       ⎠"
      ]
     },
     "execution_count": 20,
     "metadata": {},
     "output_type": "execute_result"
    }
   ],
   "source": [
    "# Final expressions for the change in image pixels for a change in window pixels.\n",
    "# Increment the image center by the negative of this change, to pan the image with the mouse.\n",
    "Eq(d_omp_x, omp_X_qwn_m[0,0] * d_qwn_x, evaluate=False), Eq(d_omp_y, omp_X_qwn_m[1,1] * d_qwn_y, evaluate=False)"
   ]
  },
  {
   "cell_type": "code",
   "execution_count": 21,
   "id": "f3a908d5",
   "metadata": {
    "code_folding": []
   },
   "outputs": [
    {
     "data": {
      "text/latex": [
       "$\\displaystyle ^{nic}X^{qwn} = \\left[\\begin{matrix}\\frac{2}{asc_{qwn} zoom} & 0 & - \\frac{w_{win}}{asc_{qwn} zoom}\\\\0 & - \\frac{2}{asc_{qwn} zoom} & \\frac{h_{win}}{asc_{qwn} zoom}\\\\0 & 0 & 1\\end{matrix}\\right]$"
      ],
      "text/plain": [
       "                 ⎡     2                        -w_win    ⎤\n",
       "                 ⎢────────────       0        ────────────⎥\n",
       "                 ⎢asc_qwn⋅zoom                asc_qwn⋅zoom⎥\n",
       "                 ⎢                                        ⎥\n",
       "^{nic}X__{qwn} = ⎢                  -2           h_win    ⎥\n",
       "                 ⎢     0        ────────────  ────────────⎥\n",
       "                 ⎢              asc_qwn⋅zoom  asc_qwn⋅zoom⎥\n",
       "                 ⎢                                        ⎥\n",
       "                 ⎣     0             0             1      ⎦"
      ]
     },
     "execution_count": 21,
     "metadata": {},
     "output_type": "execute_result"
    }
   ],
   "source": [
    "# For 360 images, we want to pause at the nic coordinates, \n",
    "#  then add projection-specific transforms for each 360 projection\n",
    "nic_X_qwn_s = symbols(\"^{nic}X^{qwn}\")\n",
    "nic_X_qwn_m = nic_X_ndc_m * ndc_X_qwn_m\n",
    "Eq(nic_X_qwn_s, nic_X_qwn_m, evaluate=False)"
   ]
  },
  {
   "cell_type": "code",
   "execution_count": 22,
   "id": "00d46bd2",
   "metadata": {},
   "outputs": [
    {
     "data": {
      "text/latex": [
       "$\\displaystyle ^{prj}X^{nic} = \\left[\\begin{matrix}\\frac{\\pi}{2} & 0 & 0\\\\0 & \\frac{\\pi}{2} & 0\\\\0 & 0 & 1\\end{matrix}\\right]$"
      ],
      "text/plain": [
       "                 ⎡π      ⎤\n",
       "                 ⎢─  0  0⎥\n",
       "                 ⎢2      ⎥\n",
       "                 ⎢       ⎥\n",
       "^{prj}X__{nic} = ⎢   π   ⎥\n",
       "                 ⎢0  ─  0⎥\n",
       "                 ⎢   2   ⎥\n",
       "                 ⎢       ⎥\n",
       "                 ⎣0  0  1⎦"
      ]
     },
     "execution_count": 22,
     "metadata": {},
     "output_type": "execute_result"
    }
   ],
   "source": [
    "# Projected 360 prj coordinates differ from nic by an isotropic scale\n",
    "prj_X_nic_s = symbols(\"^{prj}X^{nic}\")\n",
    "prj_X_nic_m = Matrix([\n",
    "    [pi/2, 0, 0],\n",
    "    [0, pi/2, 0],\n",
    "    [0, 0, 1],\n",
    "])\n",
    "Eq(prj_X_nic_s, prj_X_nic_m, evaluate=False)"
   ]
  },
  {
   "cell_type": "code",
   "execution_count": 23,
   "id": "a0d76620",
   "metadata": {},
   "outputs": [
    {
     "data": {
      "text/latex": [
       "$\\displaystyle ^{prj}X^{nic} = \\left[\\begin{matrix}\\frac{\\pi}{asc_{qwn} zoom} & 0 & - \\frac{\\pi w_{win}}{2 asc_{qwn} zoom}\\\\0 & - \\frac{\\pi}{asc_{qwn} zoom} & \\frac{\\pi h_{win}}{2 asc_{qwn} zoom}\\\\0 & 0 & 1\\end{matrix}\\right]$"
      ],
      "text/plain": [
       "                 ⎡     π                        -π⋅w_win    ⎤\n",
       "                 ⎢────────────       0        ──────────────⎥\n",
       "                 ⎢asc_qwn⋅zoom                2⋅asc_qwn⋅zoom⎥\n",
       "                 ⎢                                          ⎥\n",
       "^{prj}X__{nic} = ⎢                  -π           π⋅h_win    ⎥\n",
       "                 ⎢     0        ────────────  ──────────────⎥\n",
       "                 ⎢              asc_qwn⋅zoom  2⋅asc_qwn⋅zoom⎥\n",
       "                 ⎢                                          ⎥\n",
       "                 ⎣     0             0              1       ⎦"
      ]
     },
     "execution_count": 23,
     "metadata": {},
     "output_type": "execute_result"
    }
   ],
   "source": [
    "prj_X_qwn_s = symbols(\"^{prj}X^{nic}\")\n",
    "prj_X_qwn_m = prj_X_nic_m * nic_X_qwn_m\n",
    "Eq(prj_X_qwn_s, prj_X_qwn_m, evaluate=False)"
   ]
  },
  {
   "cell_type": "code",
   "execution_count": 24,
   "id": "8c893785",
   "metadata": {},
   "outputs": [
    {
     "data": {
      "text/latex": [
       "$\\displaystyle ^{nic}J^{qwn} = \\left[\\begin{matrix}\\frac{2}{asc_{qwn} zoom} & 0\\\\0 & - \\frac{2}{asc_{qwn} zoom}\\end{matrix}\\right]$"
      ],
      "text/plain": [
       "                 ⎡     2                    ⎤\n",
       "                 ⎢────────────       0      ⎥\n",
       "                 ⎢asc_qwn⋅zoom              ⎥\n",
       "^{nic}J__{qwn} = ⎢                          ⎥\n",
       "                 ⎢                  -2      ⎥\n",
       "                 ⎢     0        ────────────⎥\n",
       "                 ⎣              asc_qwn⋅zoom⎦"
      ]
     },
     "execution_count": 24,
     "metadata": {},
     "output_type": "execute_result"
    }
   ],
   "source": [
    "# Partial Jacobian matrix for dragging 360 images\n",
    "nic_J_qwn_s = symbols(\"^{nic}J^{qwn}\")\n",
    "nic_J_qwn_m = nic_X_qwn_m[0:2,0:2]  # Just the scale, because it's linear or whatever.\n",
    "Eq(nic_J_qwn_s, nic_J_qwn_m, evaluate=False)"
   ]
  },
  {
   "cell_type": "code",
   "execution_count": 25,
   "id": "efbbf8f6",
   "metadata": {},
   "outputs": [
    {
     "data": {
      "text/latex": [
       "$\\displaystyle ^{prj}J^{qwn} = \\left[\\begin{matrix}\\frac{\\pi}{asc_{qwn} zoom} & 0\\\\0 & - \\frac{\\pi}{asc_{qwn} zoom}\\end{matrix}\\right]$"
      ],
      "text/plain": [
       "                 ⎡     π                    ⎤\n",
       "                 ⎢────────────       0      ⎥\n",
       "                 ⎢asc_qwn⋅zoom              ⎥\n",
       "^{prj}J__{qwn} = ⎢                          ⎥\n",
       "                 ⎢                  -π      ⎥\n",
       "                 ⎢     0        ────────────⎥\n",
       "                 ⎣              asc_qwn⋅zoom⎦"
      ]
     },
     "execution_count": 25,
     "metadata": {},
     "output_type": "execute_result"
    }
   ],
   "source": [
    "# Projected unzoomed coordinates for 360 are scaled to +- pi/2 on screen\n",
    "prj_J_qwn_s = symbols(\"^{prj}J^{qwn}\")\n",
    "prj_J_qwn_m = nic_J_qwn_m * pi / 2\n",
    "prj_J_qwn_m\n",
    "Eq(prj_J_qwn_s, prj_J_qwn_m, evaluate=False)"
   ]
  },
  {
   "cell_type": "code",
   "execution_count": 26,
   "id": "f5840a4b",
   "metadata": {
    "code_folding": []
   },
   "outputs": [
    {
     "data": {
      "text/latex": [
       "$\\displaystyle ^{eqr}p = \\left[\\begin{matrix}\\operatorname{atan_{2}}{\\left(^{obq}p_x,- ^{obq}p_z \\right)}\\\\\\operatorname{asin}{\\left(^{obq}p_y \\right)}\\end{matrix}\\right]$"
      ],
      "text/plain": [
       "          ⎡atan2(^{obq}pₓ, -^{obq}p_z)⎤\n",
       "^{eqr}p = ⎢                           ⎥\n",
       "          ⎣      asin(^{obq}p_y)      ⎦"
      ]
     },
     "execution_count": 26,
     "metadata": {},
     "output_type": "execute_result"
    }
   ],
   "source": [
    "# Equirectangular coordinates - heading and pitch (in radians)\n",
    "# heading is radians clockwise from north/straight-ahead when viewed from above\n",
    "# pitch is radians above the horizon\n",
    "\n",
    "# obq is xyz unit sphere coordinates \"oblique\" because a view transform may have been applied already\n",
    "# right-handed x-positive-right, y-positive-up, z-positive-nearer\n",
    "x_obq, y_obq, z_obq = symbols(\"^{obq}p_x, ^{obq}p_y, ^{obq}p_z\")\n",
    "p_obq_s = symbols(\"^{obq}p\")\n",
    "\n",
    "eqr_from_obq = Matrix([\n",
    "    atan2(x_obq, -z_obq),  # negative Z, because the central pixel is at the far end of the sphere\n",
    "    asin(y_obq),\n",
    "])\n",
    "\n",
    "p_eqr_s = symbols(\"^{eqr}p\")\n",
    "Eq(p_eqr_s, eqr_from_obq, evaluate=False)"
   ]
  },
  {
   "cell_type": "code",
   "execution_count": 27,
   "id": "4f8c154e",
   "metadata": {},
   "outputs": [
    {
     "data": {
      "text/latex": [
       "$\\displaystyle ^{obq}p = \\left[\\begin{matrix}\\sin{\\left(^{eqr}p_x \\right)} \\cos{\\left(^{eqr}p_y \\right)}\\\\\\sin{\\left(^{eqr}p_y \\right)}\\\\- \\cos{\\left(^{eqr}p_x \\right)} \\cos{\\left(^{eqr}p_y \\right)}\\end{matrix}\\right]$"
      ],
      "text/plain": [
       "          ⎡sin(^{eqr}pₓ)⋅cos(^{eqr}p_y) ⎤\n",
       "          ⎢                             ⎥\n",
       "^{obq}p = ⎢       sin(^{eqr}p_y)        ⎥\n",
       "          ⎢                             ⎥\n",
       "          ⎣-cos(^{eqr}pₓ)⋅cos(^{eqr}p_y)⎦"
      ]
     },
     "execution_count": 27,
     "metadata": {},
     "output_type": "execute_result"
    }
   ],
   "source": [
    "eqr_x, eqr_y = symbols(\"^{eqr}p_x, ^{eqr}p_y\")\n",
    "obq_from_eqr = Matrix([\n",
    "    [cos(eqr_y) * sin(eqr_x)],\n",
    "    [sin(eqr_y)],\n",
    "    [-cos(eqr_y) * cos(eqr_x)],\n",
    "])\n",
    "\n",
    "Eq(p_obq_s, obq_from_eqr, evaluate=False)"
   ]
  },
  {
   "cell_type": "code",
   "execution_count": 28,
   "id": "9611ec06",
   "metadata": {},
   "outputs": [
    {
     "data": {
      "text/latex": [
       "$\\displaystyle ^{obq}p = \\left[\\begin{matrix}\\frac{4 ^{ste}p_x}{\\left(^{ste}p_x\\right)^{2} + \\left(^{ste}p_y\\right)^{2} + 4}\\\\\\frac{4 ^{ste}p_y}{\\left(^{ste}p_x\\right)^{2} + \\left(^{ste}p_y\\right)^{2} + 4}\\\\\\frac{\\left(^{ste}p_x\\right)^{2} + \\left(^{ste}p_y\\right)^{2} - 4}{\\left(^{ste}p_x\\right)^{2} + \\left(^{ste}p_y\\right)^{2} + 4}\\end{matrix}\\right]$"
      ],
      "text/plain": [
       "          ⎡        4⋅^{ste}pₓ        ⎤\n",
       "          ⎢──────────────────────────⎥\n",
       "          ⎢        2            2    ⎥\n",
       "          ⎢^{ste}pₓ  + ^{ste}p_y  + 4⎥\n",
       "          ⎢                          ⎥\n",
       "          ⎢       4⋅^{ste}p_y        ⎥\n",
       "          ⎢──────────────────────────⎥\n",
       "^{obq}p = ⎢        2            2    ⎥\n",
       "          ⎢^{ste}pₓ  + ^{ste}p_y  + 4⎥\n",
       "          ⎢                          ⎥\n",
       "          ⎢        2            2    ⎥\n",
       "          ⎢^{ste}pₓ  + ^{ste}p_y  - 4⎥\n",
       "          ⎢──────────────────────────⎥\n",
       "          ⎢        2            2    ⎥\n",
       "          ⎣^{ste}pₓ  + ^{ste}p_y  + 4⎦"
      ]
     },
     "execution_count": 28,
     "metadata": {},
     "output_type": "execute_result"
    }
   ],
   "source": [
    "# Stereographic coordinates\n",
    "# Assume that ste coordinates range from -1 to +1 at zoom==1\n",
    "\n",
    "# 2D Stereographic image coordinates. Range is unlimited.\n",
    "ste_x, ste_y = symbols(\"^{ste}p_x, ^{ste}p_y\")\n",
    "\n",
    "d = ste_x**2 + ste_y**2 + 4\n",
    "obq_from_ste = Matrix([\n",
    "    [4 * ste_x / d],\n",
    "    [4 * ste_y / d],\n",
    "    [(d - 8) / d],\n",
    "])\n",
    "\n",
    "Eq(p_obq_s, obq_from_ste, evaluate=False)"
   ]
  },
  {
   "cell_type": "code",
   "execution_count": 29,
   "id": "0209482c",
   "metadata": {},
   "outputs": [
    {
     "data": {
      "text/latex": [
       "$\\displaystyle \\left[\\begin{matrix}^{obq}{\\partial}p_x\\\\^{obq}{\\partial}p_y\\\\^{obq}{\\partial}p_z\\end{matrix}\\right] = \\left[\\begin{matrix}- \\frac{8 \\left(^{ste}p_x\\right)^{2}}{\\left(\\left(^{ste}p_x\\right)^{2} + \\left(^{ste}p_y\\right)^{2} + 4\\right)^{2}} + \\frac{4}{\\left(^{ste}p_x\\right)^{2} + \\left(^{ste}p_y\\right)^{2} + 4} & - \\frac{8 ^{ste}p_x ^{ste}p_y}{\\left(\\left(^{ste}p_x\\right)^{2} + \\left(^{ste}p_y\\right)^{2} + 4\\right)^{2}}\\\\- \\frac{8 ^{ste}p_x ^{ste}p_y}{\\left(\\left(^{ste}p_x\\right)^{2} + \\left(^{ste}p_y\\right)^{2} + 4\\right)^{2}} & - \\frac{8 \\left(^{ste}p_y\\right)^{2}}{\\left(\\left(^{ste}p_x\\right)^{2} + \\left(^{ste}p_y\\right)^{2} + 4\\right)^{2}} + \\frac{4}{\\left(^{ste}p_x\\right)^{2} + \\left(^{ste}p_y\\right)^{2} + 4}\\\\- \\frac{2 ^{ste}p_x \\left(\\left(^{ste}p_x\\right)^{2} + \\left(^{ste}p_y\\right)^{2} - 4\\right)}{\\left(\\left(^{ste}p_x\\right)^{2} + \\left(^{ste}p_y\\right)^{2} + 4\\right)^{2}} + \\frac{2 ^{ste}p_x}{\\left(^{ste}p_x\\right)^{2} + \\left(^{ste}p_y\\right)^{2} + 4} & - \\frac{2 ^{ste}p_y \\left(\\left(^{ste}p_x\\right)^{2} + \\left(^{ste}p_y\\right)^{2} - 4\\right)}{\\left(\\left(^{ste}p_x\\right)^{2} + \\left(^{ste}p_y\\right)^{2} + 4\\right)^{2}} + \\frac{2 ^{ste}p_y}{\\left(^{ste}p_x\\right)^{2} + \\left(^{ste}p_y\\right)^{2} + 4}\\end{matrix}\\right] \\left[\\begin{matrix}^{ste}{\\partial}p_x & ^{ste}{\\partial}p_y\\end{matrix}\\right]$"
      ],
      "text/plain": [
       "                        ⎡                          2                          \n",
       "                        ⎢                8⋅^{ste}pₓ                         4 \n",
       "                        ⎢     - ───────────────────────────── + ──────────────\n",
       "                        ⎢                                   2           2     \n",
       "                        ⎢       ⎛        2            2    ⎞    ^{ste}pₓ  + ^{\n",
       "                        ⎢       ⎝^{ste}pₓ  + ^{ste}p_y  + 4⎠                  \n",
       "                        ⎢                                                     \n",
       "                        ⎢                                                     \n",
       "⎡^{obq}{\\partial}pₓ ⎤   ⎢                        -8⋅^{ste}pₓ⋅^{ste}p_y        \n",
       "⎢                   ⎥   ⎢                    ─────────────────────────────    \n",
       "⎢^{obq}{\\partial}p_y⎥ = ⎢                                                2    \n",
       "⎢                   ⎥   ⎢                    ⎛        2            2    ⎞     \n",
       "⎣^{obq}{\\partial}p_z⎦   ⎢                    ⎝^{ste}pₓ  + ^{ste}p_y  + 4⎠     \n",
       "                        ⎢                                                     \n",
       "                        ⎢             ⎛        2            2    ⎞            \n",
       "                        ⎢  2⋅^{ste}pₓ⋅⎝^{ste}pₓ  + ^{ste}p_y  - 4⎠           2\n",
       "                        ⎢- ─────────────────────────────────────── + ─────────\n",
       "                        ⎢                                   2                2\n",
       "                        ⎢       ⎛        2            2    ⎞         ^{ste}pₓ \n",
       "                        ⎣       ⎝^{ste}pₓ  + ^{ste}p_y  + 4⎠                  \n",
       "\n",
       "                                                                              \n",
       "                                            -8⋅^{ste}pₓ⋅^{ste}p_y             \n",
       "────────────                            ─────────────────────────────         \n",
       "       2                                                            2         \n",
       "ste}p_y  + 4                            ⎛        2            2    ⎞          \n",
       "                                        ⎝^{ste}pₓ  + ^{ste}p_y  + 4⎠          \n",
       "                                                                              \n",
       "                                              2                               \n",
       "                                   8⋅^{ste}p_y                        4       \n",
       "                        - ───────────────────────────── + ────────────────────\n",
       "                                                      2           2           \n",
       "                          ⎛        2            2    ⎞    ^{ste}pₓ  + ^{ste}p_\n",
       "                          ⎝^{ste}pₓ  + ^{ste}p_y  + 4⎠                        \n",
       "                                                                              \n",
       "                                 ⎛        2            2    ⎞                 \n",
       "⋅^{ste}pₓ            2⋅^{ste}p_y⋅⎝^{ste}pₓ  + ^{ste}p_y  - 4⎠          2⋅^{ste\n",
       "─────────────────  - ──────────────────────────────────────── + ──────────────\n",
       "            2                                         2                 2     \n",
       " + ^{ste}p_y  + 4         ⎛        2            2    ⎞          ^{ste}pₓ  + ^{\n",
       "                          ⎝^{ste}pₓ  + ^{ste}p_y  + 4⎠                        \n",
       "\n",
       "            ⎤                                          \n",
       "            ⎥                                          \n",
       "            ⎥                                          \n",
       "            ⎥                                          \n",
       "            ⎥                                          \n",
       "            ⎥                                          \n",
       "            ⎥                                          \n",
       "            ⎥                                          \n",
       "            ⎥                                          \n",
       "──────      ⎥                                          \n",
       " 2          ⎥⋅[^{ste}{\\partial}pₓ  ^{ste}{\\partial}p_y]\n",
       "y  + 4      ⎥                                          \n",
       "            ⎥                                          \n",
       "            ⎥                                          \n",
       "            ⎥                                          \n",
       "}p_y        ⎥                                          \n",
       "────────────⎥                                          \n",
       "       2    ⎥                                          \n",
       "ste}p_y  + 4⎥                                          \n",
       "            ⎦                                          "
      ]
     },
     "execution_count": 29,
     "metadata": {},
     "output_type": "execute_result"
    }
   ],
   "source": [
    "# Stereographic Jacobian obq_J_ste\n",
    "obq_J_ste_m = Matrix([\n",
    "    [diff(obq_from_ste[0], ste_x), diff(obq_from_ste[0], ste_y)],\n",
    "    [diff(obq_from_ste[1], ste_x), diff(obq_from_ste[1], ste_y)],\n",
    "    [diff(obq_from_ste[2], ste_x), diff(obq_from_ste[2], ste_y)],\n",
    "])\n",
    "dp_obq_x, dp_obq_y, dp_obq_z = symbols(\"^{obq}{\\partial}p_x ^{obq}{\\partial}p_y ^{obq}{\\partial}p_z\")\n",
    "dp_ste_x, dp_ste_y = symbols(\"^{ste}{\\partial}p_x ^{ste}{\\partial}p_y\")\n",
    "dp_obq = Matrix([dp_obq_x, dp_obq_y, dp_obq_z])\n",
    "dp_ste = Matrix([dp_ste_x, dp_ste_y])\n",
    "Eq(dp_obq, ue(obq_J_ste_m) * ue(dp_ste.transpose()), evaluate=False)"
   ]
  },
  {
   "cell_type": "code",
   "execution_count": null,
   "id": "5ff866d2",
   "metadata": {},
   "outputs": [],
   "source": []
  }
 ],
 "metadata": {
  "kernelspec": {
   "display_name": "Python 3 (ipykernel)",
   "language": "python",
   "name": "python3"
  },
  "language_info": {
   "codemirror_mode": {
    "name": "ipython",
    "version": 3
   },
   "file_extension": ".py",
   "mimetype": "text/x-python",
   "name": "python",
   "nbconvert_exporter": "python",
   "pygments_lexer": "ipython3",
   "version": "3.9.13"
  }
 },
 "nbformat": 4,
 "nbformat_minor": 5
}
