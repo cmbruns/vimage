{
 "cells": [
  {
   "cell_type": "markdown",
   "id": "be057972",
   "metadata": {},
   "source": [
    "## Coordinate Frames\n",
    "\n",
    "| Frame | Units         | Origin   | Y dir | Description |\n",
    "| ----- | ------------- | -------- | ----- | ----------- |\n",
    "| qwn   | window pixels | top left | down  | Qt window coordinates |\n",
    "| ndc   | half windows  | center   | up    | OpenGL normalized device coordinates |\n",
    "| nic   | half images   | center   | up    | vimage normalized reoriented image coordinates |\n",
    "| omp   | image pixels  | top left | down  | EXIF reoriented image pixels |\n",
    "| txc   | images        | top left | down  | OpenGL texture coordinates |\n",
    "| ypr   | degrees       | center   | up    | yaw and pitch of 360 image |"
   ]
  },
  {
   "cell_type": "markdown",
   "id": "7ab543c5",
   "metadata": {},
   "source": [
    "### Situations where transformation between coordinate frames is needed:\n",
    "\n",
    " 1. When single dragging images to pan. Here we need the jacobian matrix relating qwn coordinates to view_model parameters. $viw_J_qwn$\n",
    "     * image center (but not zoom), in the case of rectangular images\n",
    "     * view pitch and heading angles (but not zoom nor roll) in the case of 360 images\n",
    " 2. When rendering images in a GLSL shader. $txc_X_ndc$\n",
    " 3. When hovering with the mouse $omp_X_qwn$ for rectangular and $viw_X_qwn$ for 360 images."
   ]
  },
  {
   "cell_type": "markdown",
   "id": "b0b14b24",
   "metadata": {},
   "source": [
    "The only frames we need to compute are:\n",
    "  * tex, in the rectangular shader tex_X_ndc\n",
    "  * omp, on hover omp_X_qwn\n",
    "  * derivative of image center (in either ont, raw, tex, img, or omp), on drag omp_J_qwn\n",
    "    * ypr for 360s ypr_J_qwn\n",
    "    * omp for rectangular omp_J_qwn\n",
    "  \n",
    "Rectangular view state:\n",
    "  * image center (should be omp, TODO:)\n",
    "  * zoom (windows per image)\n",
    "360 view state:\n",
    "  * pitch, yaw (maybe as equirect image center in degrees)\n",
    "  * zoom (windows per image at center?)\n",
    "  \n",
    "What are normalized image coordinates (nic) ?\n",
    "  * origin (0,0) is at image center\n",
    "  * Y increases upward\n",
    "  * EXIF reorientation is applied\n",
    "  * coordinates range from -1 (left, bottom) to +1 (right, top)\n",
    "  * scaled such that underlying full image exactly fits in the window. The edge touching dimension ranges from -1 to +1\n",
    "  \n",
    "Vertex shader converts from ndc to nic\n",
    "  * apply zoom, window aspect, image size, image center\n",
    "Fragment shader computes from nic to txc, and samples\n",
    "  * apply pixel filter\n",
    "  * 360 images:\n",
    "    * nic to geocentric unit sphere\n",
    "    * rotate by yaw pitch roll\n",
    "    * project to projection...\n"
   ]
  },
  {
   "cell_type": "code",
   "execution_count": 1,
   "id": "8d86901a",
   "metadata": {},
   "outputs": [],
   "source": [
    "from sympy import *\n",
    "init_printing()"
   ]
  },
  {
   "cell_type": "markdown",
   "id": "b7d7dda8",
   "metadata": {},
   "source": [
    "The transform required for hover coordinates is composed of sub-transforms:\n",
    "\n",
    "$^{omp}p \\ = \\ ^{omp}X^{qwn} \\ \\cdot \\ ^{qwn}p $\n",
    "\n",
    "$^{omp}X^{qwn} \\ = \\ ^{omp}X^{nic} \\ \\cdot \\ ^{nic}X^{ndc} \\ \\cdot \\ ^{ndc}X^{qwn}$\n"
   ]
  },
  {
   "cell_type": "code",
   "execution_count": null,
   "id": "6668a2db",
   "metadata": {},
   "outputs": [],
   "source": [
    "# printed symbols of transforms\n",
    "omp_X_qwn_s = symbols(\"^{omp}X^{qwn}\")\n",
    "ndc_X_qwn_s = symbols(\"^{ndc}X^{qwn}\")\n",
    "nic_X_ndc_s = symbols(\"^{nic}X^{ndc}\")\n",
    "omp_X_nic_s = symbols(\"^{omp}X^{nic}\")"
   ]
  },
  {
   "cell_type": "code",
   "execution_count": 54,
   "id": "3014d0d1",
   "metadata": {},
   "outputs": [
    {
     "data": {
      "text/latex": [
       "$\\displaystyle ^{ndc}X^{qwn} = \\left[\\begin{matrix}\\frac{2}{w_{win}} & 0 & -1\\\\0 & - \\frac{2}{h_{win}} & 1\\\\0 & 0 & 1\\end{matrix}\\right]$"
      ],
      "text/plain": [
       "                 ⎡  2             ⎤\n",
       "                 ⎢─────    0    -1⎥\n",
       "                 ⎢w_win           ⎥\n",
       "                 ⎢                ⎥\n",
       "^{ndc}X__{qwn} = ⎢        -2      ⎥\n",
       "                 ⎢  0    ─────  1 ⎥\n",
       "                 ⎢       h_win    ⎥\n",
       "                 ⎢                ⎥\n",
       "                 ⎣  0      0    1 ⎦"
      ]
     },
     "execution_count": 54,
     "metadata": {},
     "output_type": "execute_result"
    }
   ],
   "source": [
    "# ndc_X_qwn: Transform to OpenGL normalized device coordinates from Qt window pixel coordinates\n",
    "\n",
    "# window dimensions\n",
    "w_win, h_win = symbols(\"w_win, h_win\")\n",
    "\n",
    "ndc_X_qwn_m = Matrix([\n",
    "    [2/w_win, 0, -1],\n",
    "    [0, -2/h_win, 1],\n",
    "    [0, 0, 1],\n",
    "])\n",
    "\n",
    "# confidence checks\n",
    "\n",
    "# Upper left corner\n",
    "ulc_qwn_v = Matrix([0, 0, 1])\n",
    "ulc_ndc_v = Matrix([-1, 1, 1])\n",
    "assert ndc_X_qwn_m * ulc_qwn_v == ulc_ndc_v\n",
    "\n",
    "# Upper right corner\n",
    "urc_qwn_v = Matrix([w_win, 0, 1])\n",
    "urc_ndc_v = Matrix([1, 1, 1])\n",
    "assert ndc_X_qwn_m * urc_qwn_v == urc_ndc_v\n",
    "\n",
    "# Lower left corner\n",
    "llc_qwn_v = Matrix([0, h_win, 1])\n",
    "llc_ndc_v = Matrix([-1, -1, 1])\n",
    "assert ndc_X_qwn_m * llc_qwn_v == llc_ndc_v\n",
    "\n",
    "# Lower right corner\n",
    "lrc_qwn_v = Matrix([w_win, h_win, 1])\n",
    "lrc_ndc_v = Matrix([1, -1, 1])\n",
    "assert ndc_X_qwn_m * lrc_qwn_v == lrc_ndc_v\n",
    "\n",
    "Eq(ndc_X_qwn_s, ndc_X_qwn_m, evaluate=False)"
   ]
  },
  {
   "cell_type": "code",
   "execution_count": 67,
   "id": "f945c045",
   "metadata": {},
   "outputs": [
    {
     "data": {
      "text/latex": [
       "$\\displaystyle ^{nic}X^{ndc} = \\left[\\begin{matrix}\\frac{1}{zoom} & 0 & 0\\\\0 & - \\frac{h_{win}}{w_{win} zoom} & 0\\\\0 & 0 & 1\\end{matrix}\\right]$"
      ],
      "text/plain": [
       "                 ⎡ 1                 ⎤\n",
       "                 ⎢────      0       0⎥\n",
       "                 ⎢zoom               ⎥\n",
       "                 ⎢                   ⎥\n",
       "^{nic}X__{ndc} = ⎢       -h_win      ⎥\n",
       "                 ⎢ 0    ──────────  0⎥\n",
       "                 ⎢      w_win⋅zoom   ⎥\n",
       "                 ⎢                   ⎥\n",
       "                 ⎣ 0        0       1⎦"
      ]
     },
     "execution_count": 67,
     "metadata": {},
     "output_type": "execute_result"
    }
   ],
   "source": [
    "# nic_X_ndc: transform to vimage normalized image coordinates from OpenGL normalized device coordinates\n",
    "\n",
    "w_omp, h_omp = symbols(\"w_omp, h_omp\")  # (reoriented) image dimensions\n",
    "zoom = symbols(\"zoom\")  # windows per image (default 1)\n",
    "cen_x_omp = symbols(\"^{omp}cen_x\")\n",
    "\n",
    "# TODO: aspect, center\n",
    "aspect_omp = w_omp / h_omp\n",
    "aspect_qwn = w_win / h_win\n",
    "\n",
    "# If aspect_omp > aspect_qwn, image is fatter than window, so pad top/bottom at zoom == 1\n",
    "#   -> x/y aspect scales are [w_omp / w_omp, h_omp/w_omp] == [1, h_omp/w_omp]\n",
    "# otherwise, pad left/right at zoom == 1\n",
    "#   -> x/y aspect scales are [w_omp / h_omp, h_omp/h_omp] == [h_omp/w_omp, 1]\n",
    "rc_scaleA = w_win\n",
    "rc_scaleB = h_win\n",
    "\n",
    "nic_X_ndc_mA = Matrix([\n",
    "    [w_win/rc_scaleA/zoom, 0, 0],\n",
    "    [0, -h_win/rc_scaleA/zoom, 0],\n",
    "    [0, 0, 1],\n",
    "])\n",
    "\n",
    "Eq(nic_X_ndc_s, nic_X_ndc_mA, evaluate=False)"
   ]
  },
  {
   "cell_type": "code",
   "execution_count": 68,
   "id": "542a8a53",
   "metadata": {},
   "outputs": [
    {
     "data": {
      "text/latex": [
       "$\\displaystyle ^{nic}X^{ndc} = \\left[\\begin{matrix}\\frac{w_{win}}{h_{win} zoom} & 0 & 0\\\\0 & - \\frac{1}{zoom} & 0\\\\0 & 0 & 1\\end{matrix}\\right]$"
      ],
      "text/plain": [
       "                 ⎡  w_win            ⎤\n",
       "                 ⎢──────────   0    0⎥\n",
       "                 ⎢h_win⋅zoom         ⎥\n",
       "                 ⎢                   ⎥\n",
       "^{nic}X__{ndc} = ⎢            -1     ⎥\n",
       "                 ⎢    0       ────  0⎥\n",
       "                 ⎢            zoom   ⎥\n",
       "                 ⎢                   ⎥\n",
       "                 ⎣    0        0    1⎦"
      ]
     },
     "execution_count": 68,
     "metadata": {},
     "output_type": "execute_result"
    }
   ],
   "source": [
    "nic_X_ndc_mB = Matrix([\n",
    "    [w_win/rc_scaleB/zoom, 0, 0],\n",
    "    [0, -h_win/rc_scaleB/zoom, 0],\n",
    "    [0, 0, 1],\n",
    "])\n",
    "\n",
    "Eq(nic_X_ndc_s, nic_X_ndc_mB, evaluate=False)"
   ]
  },
  {
   "cell_type": "code",
   "execution_count": 70,
   "id": "e61184e6",
   "metadata": {},
   "outputs": [
    {
     "data": {
      "text/latex": [
       "$\\displaystyle \\left[\\begin{matrix}\\frac{2}{h_{win} zoom} & 0 & - \\frac{w_{win}}{h_{win} zoom}\\\\0 & \\frac{2}{h_{win} zoom} & - \\frac{1}{zoom}\\\\0 & 0 & 1\\end{matrix}\\right]$"
      ],
      "text/plain": [
       "⎡    2                    -w_win   ⎤\n",
       "⎢──────────      0       ──────────⎥\n",
       "⎢h_win⋅zoom              h_win⋅zoom⎥\n",
       "⎢                                  ⎥\n",
       "⎢                2          -1     ⎥\n",
       "⎢    0       ──────────     ────   ⎥\n",
       "⎢            h_win⋅zoom     zoom   ⎥\n",
       "⎢                                  ⎥\n",
       "⎣    0           0           1     ⎦"
      ]
     },
     "execution_count": 70,
     "metadata": {},
     "output_type": "execute_result"
    }
   ],
   "source": [
    "# omp_X_nic: Transform from normalized image coordinates to oriented image pixels\n",
    "\n",
    "# TODO:\n",
    "omp_X_nic_mA = Matrix([\n",
    "    [w_omp, 0, w_omp / 2],\n",
    "    [0, -w_omp, h_omp / 2],\n",
    "    [0, 0, 1],\n",
    "])\n",
    "\n",
    "# nic_X_ndc_mB * ndc_X_qwn_m"
   ]
  },
  {
   "cell_type": "markdown",
   "id": "5c14a6a7",
   "metadata": {},
   "source": [
    "### Qt window coordinates (qwn) <-> centered window coordinates (cwn)"
   ]
  },
  {
   "cell_type": "code",
   "execution_count": 2,
   "id": "cbbc6285",
   "metadata": {},
   "outputs": [
    {
     "data": {
      "text/latex": [
       "$\\displaystyle \\left[\\begin{matrix}^{cwn}p_x\\\\^{cwn}p_y\\\\1\\end{matrix}\\right] = \\left[\\begin{matrix}1 & 0 & - \\frac{width_{win}}{2}\\\\0 & -1 & \\frac{height_{win}}{2}\\\\0 & 0 & 1\\end{matrix}\\right] \\left[\\begin{matrix}^{qwn}p_x & ^{qwn}p_y & 1\\end{matrix}\\right]$"
      ],
      "text/plain": [
       "              ⎡       -width_win ⎤                         \n",
       "              ⎢1  0   ───────────⎥                         \n",
       "⎡^{cwn}pₓ ⎤   ⎢            2     ⎥                         \n",
       "⎢         ⎥   ⎢                  ⎥                         \n",
       "⎢^{cwn}p_y⎥ = ⎢       height_win ⎥⋅[^{qwn}pₓ  ^{qwn}p_y  1]\n",
       "⎢         ⎥   ⎢0  -1  ────────── ⎥                         \n",
       "⎣    1    ⎦   ⎢           2      ⎥                         \n",
       "              ⎢                  ⎥                         \n",
       "              ⎣0  0        1     ⎦                         "
      ]
     },
     "execution_count": 2,
     "metadata": {},
     "output_type": "execute_result"
    }
   ],
   "source": [
    "# Convert between Qt window pixel coordinates (qwn) and centered window pixel coordinates (cwn)\n",
    "x_qwn, y_qwn = symbols(\"^{qwn}p_x, ^{qwn}p_y\")  # Qt x,y window position in pixels\n",
    "xyw_qwn = Matrix([x_qwn, y_qwn, 1])\n",
    "width_win, height_win = symbols(\"width_win, height_win\")  # Window size in pixels\n",
    "cwn_X_qwn = Matrix([\n",
    "    [1, 0, -width_win / 2],\n",
    "    [0, -1, height_win / 2],\n",
    "    [0, 0, 1],\n",
    "])\n",
    "\n",
    "# Verify assumptions\n",
    "assert cwn_X_qwn * Matrix([0, 0, 1]) == Matrix([-width_win/2, height_win/2, 1])  # upper left\n",
    "assert cwn_X_qwn * Matrix([width_win, height_win, 1]) == Matrix([width_win/2, -height_win/2, 1]) # lower right\n",
    "assert cwn_X_qwn * Matrix([width_win/2, height_win/2, 1]) == Matrix([0, 0, 1]) # center\n",
    "\n",
    "x_cwn, y_cwn = symbols(\"^{cwn}p_x, ^{cwn}p_y\")\n",
    "xyw_cwn = Matrix([x_cwn, y_cwn, 1])\n",
    "UnevaluatedExpr(cwn_X_qwn) * UnevaluatedExpr(xyw_qwn.transpose())\n",
    "rhs = UnevaluatedExpr(cwn_X_qwn) * UnevaluatedExpr(xyw_qwn.transpose())\n",
    "Eq(UnevaluatedExpr(xyw_cwn), rhs)"
   ]
  },
  {
   "cell_type": "code",
   "execution_count": 3,
   "id": "86764022",
   "metadata": {},
   "outputs": [
    {
     "data": {
      "text/latex": [
       "$\\displaystyle \\left[\\begin{matrix}^{qwn}p_x\\\\^{qwn}p_y\\\\1\\end{matrix}\\right] = \\left[\\begin{matrix}1 & 0 & \\frac{width_{win}}{2}\\\\0 & -1 & \\frac{height_{win}}{2}\\\\0 & 0 & 1\\end{matrix}\\right] \\left[\\begin{matrix}^{cwn}p_x & ^{cwn}p_y & 1\\end{matrix}\\right]$"
      ],
      "text/plain": [
       "              ⎡       width_win ⎤                         \n",
       "              ⎢1  0   ───────── ⎥                         \n",
       "⎡^{qwn}pₓ ⎤   ⎢           2     ⎥                         \n",
       "⎢         ⎥   ⎢                 ⎥                         \n",
       "⎢^{qwn}p_y⎥ = ⎢       height_win⎥⋅[^{cwn}pₓ  ^{cwn}p_y  1]\n",
       "⎢         ⎥   ⎢0  -1  ──────────⎥                         \n",
       "⎣    1    ⎦   ⎢           2     ⎥                         \n",
       "              ⎢                 ⎥                         \n",
       "              ⎣0  0       1     ⎦                         "
      ]
     },
     "execution_count": 3,
     "metadata": {},
     "output_type": "execute_result"
    }
   ],
   "source": [
    "# Inverse transform\n",
    "qwn_X_cwn = cwn_X_qwn.inv()\n",
    "\n",
    "# Verify assumptions\n",
    "assert qwn_X_cwn * Matrix([-width_win/2, height_win/2, 1]) == Matrix([0, 0, 1])  # upper left\n",
    "assert qwn_X_cwn * Matrix([width_win/2, -height_win/2, 1]) == Matrix([width_win, height_win, 1]) # lower right\n",
    "assert qwn_X_cwn * Matrix([0, 0, 1]) == Matrix([width_win/2, height_win/2, 1]) # center\n",
    "\n",
    "rhs = UnevaluatedExpr(qwn_X_cwn) * UnevaluatedExpr(xyw_cwn.transpose())\n",
    "Eq(UnevaluatedExpr(xyw_qwn), rhs)"
   ]
  },
  {
   "cell_type": "code",
   "execution_count": 4,
   "id": "863afb7b",
   "metadata": {},
   "outputs": [
    {
     "data": {
      "text/latex": [
       "$\\displaystyle \\left[\\begin{matrix}^{cwn}{\\partial}p_x\\\\^{cwn}{\\partial}p_y\\end{matrix}\\right] = \\left[\\begin{matrix}1 & 0\\\\0 & -1\\end{matrix}\\right] \\left[\\begin{matrix}^{qwn}{\\partial}p_x & ^{qwn}{\\partial}p_y\\end{matrix}\\right]$"
      ],
      "text/plain": [
       "⎡^{cwn}{\\partial}pₓ ⎤   ⎡1  0 ⎤                                          \n",
       "⎢                   ⎥ = ⎢     ⎥⋅[^{qwn}{\\partial}pₓ  ^{qwn}{\\partial}p_y]\n",
       "⎣^{cwn}{\\partial}p_y⎦   ⎣0  -1⎦                                          "
      ]
     },
     "execution_count": 4,
     "metadata": {},
     "output_type": "execute_result"
    }
   ],
   "source": [
    "# Jacobian\n",
    "dx_qwn, dy_qwn = symbols(\"^{qwn}{\\partial}p_x, ^{qwn}{\\partial}p_y\")\n",
    "dx_cwn, dy_cwn = symbols(\"^{cwn}{\\partial}p_x, ^{cwn}{\\partial}p_y\")\n",
    "cwn_J_qwn = cwn_X_qwn[0:2,0:2]\n",
    "Eq(UnevaluatedExpr(Matrix([dx_cwn, dy_cwn])), UnevaluatedExpr(cwn_J_qwn) * UnevaluatedExpr(Matrix([dx_qwn, dy_qwn]).transpose()))\n",
    "# cwn_J_qwn"
   ]
  },
  {
   "cell_type": "code",
   "execution_count": 5,
   "id": "85052a80",
   "metadata": {},
   "outputs": [
    {
     "data": {
      "text/latex": [
       "$\\displaystyle \\left[\\begin{matrix}^{qwn}{\\partial}p_x\\\\^{qwn}{\\partial}p_y\\end{matrix}\\right] = \\left[\\begin{matrix}1 & 0\\\\0 & -1\\end{matrix}\\right] \\left[\\begin{matrix}^{cwn}{\\partial}p_x & ^{cwn}{\\partial}p_y\\end{matrix}\\right]$"
      ],
      "text/plain": [
       "⎡^{qwn}{\\partial}pₓ ⎤   ⎡1  0 ⎤                                          \n",
       "⎢                   ⎥ = ⎢     ⎥⋅[^{cwn}{\\partial}pₓ  ^{cwn}{\\partial}p_y]\n",
       "⎣^{qwn}{\\partial}p_y⎦   ⎣0  -1⎦                                          "
      ]
     },
     "execution_count": 5,
     "metadata": {},
     "output_type": "execute_result"
    }
   ],
   "source": [
    "qwn_J_cwn = qwn_X_cwn[0:2,0:2]\n",
    "assert qwn_J_cwn * cwn_J_qwn == eye(2)\n",
    "Eq(UnevaluatedExpr(Matrix([dx_qwn, dy_qwn])), UnevaluatedExpr(qwn_J_cwn) * UnevaluatedExpr(Matrix([dx_cwn, dy_cwn]).transpose()))\n"
   ]
  },
  {
   "cell_type": "markdown",
   "id": "86942d2b",
   "metadata": {},
   "source": []
  }
 ],
 "metadata": {
  "kernelspec": {
   "display_name": "Python 3 (ipykernel)",
   "language": "python",
   "name": "python3"
  },
  "language_info": {
   "codemirror_mode": {
    "name": "ipython",
    "version": 3
   },
   "file_extension": ".py",
   "mimetype": "text/x-python",
   "name": "python",
   "nbconvert_exporter": "python",
   "pygments_lexer": "ipython3",
   "version": "3.9.13"
  }
 },
 "nbformat": 4,
 "nbformat_minor": 5
}
